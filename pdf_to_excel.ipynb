{
 "cells": [
  {
   "cell_type": "code",
   "execution_count": 1,
   "id": "ab446f69-859d-434e-b1d3-01fef39bf150",
   "metadata": {},
   "outputs": [],
   "source": [
    "import os"
   ]
  },
  {
   "cell_type": "code",
   "execution_count": 3,
   "id": "18bec8c8-4441-4611-9d0e-1575ac8bd3ff",
   "metadata": {},
   "outputs": [
    {
     "name": "stdout",
     "output_type": "stream",
     "text": [
      "True\n",
      "True\n",
      "True\n"
     ]
    }
   ],
   "source": [
    "# define paths and check\n",
    "batch_1_path = \"D:/E_filing/oct3_23/\"\n",
    "batch_2_path = \"D:/batch_2/\"\n",
    "batch_3_path = \"D:/batch_3/\"\n",
    "print(os.path.exists(batch_1_path))\n",
    "print(os.path.exists(batch_2_path))\n",
    "print(os.path.exists(batch_2_path))"
   ]
  },
  {
   "cell_type": "markdown",
   "id": "fa4f2a22-c37c-4dca-8ae9-7d446ab741c6",
   "metadata": {},
   "source": [
    "#### look for inconsistencies and move correct pdfs into new destination"
   ]
  },
  {
   "cell_type": "code",
   "execution_count": null,
   "id": "cad4b1d1-e0d3-4353-98cd-ffd8eb19d85c",
   "metadata": {},
   "outputs": [],
   "source": [
    "import shutil\n",
    "pdf_destination = \"D:/batch_1/\"\n",
    "# first check batch 1 for inconsistencies\n",
    "tin_number_directories = os.scandir(batch_1_path)\n",
    "\n",
    "pdf_count = 0\n",
    "error_list = []\n",
    "flag = 0\n",
    "for tin in tin_number_directories:\n",
    "    # find matching pdf files with the same name as the tin directory\n",
    "    # if not then something is wrong so record it to a list\n",
    "    pdf_list = os.scandir(tin.path)\n",
    "    flag = 0\n",
    "    #print(tin.name)\n",
    "    for pdf in pdf_list:\n",
    "        # need to move correct pdf files(found in directory) to new location\n",
    "        if tin.name == pdf.name[:10]:\n",
    "            flag = 1\n",
    "            shutil.move(pdf.path, pdf_destination)\n",
    "            pdf_count += 1\n",
    "    if flag == 0:\n",
    "        error_list.append(tin.name)\n",
    "       #print(pdf.name[:10])\n",
    "\n",
    "print(\"number of moved correct pdfs to batch_1 directory: \", pdf_count)\n",
    "print(\"problematic directories: \", len(error_list))\n",
    "for tin in error_list:\n",
    "    print(tin)"
   ]
  },
  {
   "cell_type": "markdown",
   "id": "849172a1-bac1-4794-95e9-29d38041abe6",
   "metadata": {},
   "source": [
    "#### Done, now start adding pdfs from all three batch directories into a list"
   ]
  },
  {
   "cell_type": "code",
   "execution_count": 22,
   "id": "2644f614-df64-49cb-89ea-3c46615410a9",
   "metadata": {},
   "outputs": [
    {
     "name": "stdout",
     "output_type": "stream",
     "text": [
      "batch 1 size: 3485  pdfs\n",
      "batch 2 size: 2351  pdfs\n",
      "batch 3 size: 1913  pdfs\n",
      "total scanned pdf number: 10038\n",
      "pdf number after merging and editing: 7749\n"
     ]
    }
   ],
   "source": [
    "# rename batch_1 directory\n",
    "batch_1_path = \"D:/batch_1/\"\n",
    "\n",
    "pdf_list_1, pdf_list_2, pdf_list_3 = [], [], []\n",
    "\n",
    "# batch_1\n",
    "pdf_list = os.scandir(batch_1_path)\n",
    "\n",
    "for pdf in pdf_list:\n",
    "    pdf_list_1.append(pdf.path)\n",
    "    pass\n",
    "print(\"batch 1 size:\", len(pdf_list_1), \" pdfs\")\n",
    "\n",
    "# batch_2\n",
    "pdf_list = os.scandir(batch_2_path)\n",
    "\n",
    "for pdf in pdf_list:\n",
    "    pdf_list_2.append(pdf.path)\n",
    "\n",
    "print(\"batch 2 size:\", len(pdf_list_2), \" pdfs\")\n",
    "\n",
    "# batch_3\n",
    "pdf_list = os.scandir(batch_3_path)\n",
    "\n",
    "for pdf in pdf_list:\n",
    "    pdf_list_3.append(pdf.name)\n",
    "\n",
    "print(\"batch 3 size:\", len(pdf_list_3), \" pdfs\")\n",
    "\n",
    "print(\"total scanned pdf number:\", 10038)\n",
    "print(\"pdf number after merging and editing:\", len(pdf_list_1) + len(pdf_list_2) + len(pdf_list_3))"
   ]
  },
  {
   "cell_type": "markdown",
   "id": "5c607435-4240-4c14-b40e-3d9829224226",
   "metadata": {},
   "source": [
    "#### final check for finding duplicate pdfs"
   ]
  },
  {
   "cell_type": "code",
   "execution_count": 33,
   "id": "db62517d-ebca-45af-ac2d-66919322f78e",
   "metadata": {},
   "outputs": [
    {
     "name": "stdout",
     "output_type": "stream",
     "text": [
      "number of duplicates: 39\n",
      "did 14860040 comparisons\n",
      "D:/batch_1/0000049005.pdf\n",
      "D:/batch_1/0002343500.pdf\n",
      "D:/batch_1/0002749554.pdf\n",
      "D:/batch_1/0002821371.pdf\n",
      "D:/batch_1/0002956560.pdf\n",
      "D:/batch_1/0004690249.pdf\n",
      "D:/batch_1/0007067709.pdf\n",
      "D:/batch_1/0007670262.pdf\n",
      "D:/batch_1/0014067090.pdf\n",
      "D:/batch_1/0014145868.pdf\n",
      "D:/batch_1/0030678265.pdf\n",
      "D:/batch_1/0031269556.pdf\n",
      "D:/batch_1/0040143950.pdf\n",
      "D:/batch_1/0044403563.pdf\n",
      "D:/batch_1/0044534943.pdf\n",
      "D:/batch_1/0045323357.pdf\n",
      "D:/batch_1/0045355978.pdf\n",
      "D:/batch_1/0045910374.pdf\n",
      "D:/batch_1/0046145148.pdf\n",
      "D:/batch_1/0046198146.pdf\n",
      "D:/batch_1/0046565952.pdf\n",
      "D:/batch_1/0047708747.pdf\n",
      "D:/batch_1/0047786167.pdf\n",
      "D:/batch_1/0049575637.pdf\n",
      "D:/batch_1/0050464470.pdf\n",
      "D:/batch_1/0050485917.pdf\n",
      "D:/batch_1/0051967525.pdf\n",
      "D:/batch_1/0052837746.pdf\n",
      "D:/batch_1/0055042693.pdf\n",
      "D:/batch_1/0055846850.pdf\n",
      "D:/batch_1/0059812606.pdf\n",
      "D:/batch_1/0063280085.pdf\n",
      "D:/batch_1/0065274320.pdf\n",
      "D:/batch_1/0075083581.pdf\n",
      "D:/batch_1/0076688131.pdf\n",
      "D:/batch_1/0076693514.pdf\n",
      "D:/batch_1/0076705437.pdf\n",
      "D:/batch_1/0076725073.pdf\n",
      "D:/batch_1/0076738763.pdf\n"
     ]
    }
   ],
   "source": [
    "# search tin numbers for duplicates\n",
    "duplicate_list = []\n",
    "count = 0\n",
    "\n",
    "for tin in pdf_list_1:\n",
    "    #print(tin[11:-4])\n",
    "    for tin2 in pdf_list_2:\n",
    "        count += 1\n",
    "        if tin[11:21] == tin2[11:21] and tin not in duplicate_list:\n",
    "            duplicate_list.append(tin)\n",
    "    for tin3 in pdf_list_3:\n",
    "        count += 1\n",
    "        if tin[11:21] == tin3[11:21] and tin not in duplicate_list:\n",
    "            duplicate_list.append(tin)\n",
    "\n",
    "print(\"number of duplicates:\", len(duplicate_list))\n",
    "print(\"did\", count, \"comparisons\")\n",
    "for pdf in duplicate_list:\n",
    "    print(pdf)"
   ]
  },
  {
   "cell_type": "code",
   "execution_count": null,
   "id": "6354b962-203d-4ac3-907a-eb42bec68b01",
   "metadata": {},
   "outputs": [],
   "source": []
  }
 ],
 "metadata": {
  "kernelspec": {
   "display_name": "Python 3 (ipykernel)",
   "language": "python",
   "name": "python3"
  },
  "language_info": {
   "codemirror_mode": {
    "name": "ipython",
    "version": 3
   },
   "file_extension": ".py",
   "mimetype": "text/x-python",
   "name": "python",
   "nbconvert_exporter": "python",
   "pygments_lexer": "ipython3",
   "version": "3.11.7"
  }
 },
 "nbformat": 4,
 "nbformat_minor": 5
}
