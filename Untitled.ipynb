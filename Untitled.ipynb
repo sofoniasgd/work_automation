{
 "cells": [
  {
   "cell_type": "code",
   "execution_count": 1,
   "id": "71feba44-06a1-4452-a5c3-204bfe652ea6",
   "metadata": {},
   "outputs": [
    {
     "name": "stdout",
     "output_type": "stream",
     "text": [
      "Defaulting to user installation because normal site-packages is not writeable\n",
      "Collecting xlwt\n",
      "  Downloading xlwt-1.3.0-py2.py3-none-any.whl.metadata (3.5 kB)\n",
      "Downloading xlwt-1.3.0-py2.py3-none-any.whl (99 kB)\n",
      "   ---------------------------------------- 0.0/100.0 kB ? eta -:--:--\n",
      "   ---- ----------------------------------- 10.2/100.0 kB ? eta -:--:--\n",
      "   ---- ----------------------------------- 10.2/100.0 kB ? eta -:--:--\n",
      "   ----------- --------------------------- 30.7/100.0 kB 262.6 kB/s eta 0:00:01\n",
      "   ----------------------- --------------- 61.4/100.0 kB 363.1 kB/s eta 0:00:01\n",
      "   -------------------------------------- 100.0/100.0 kB 479.9 kB/s eta 0:00:00\n",
      "Installing collected packages: xlwt\n",
      "Successfully installed xlwt-1.3.0\n",
      "Note: you may need to restart the kernel to use updated packages.\n"
     ]
    }
   ],
   "source": [
    "pip install xlwt"
   ]
  },
  {
   "cell_type": "code",
   "execution_count": null,
   "id": "00331afe-07bb-4614-9946-1d0b0f77036a",
   "metadata": {},
   "outputs": [],
   "source": []
  }
 ],
 "metadata": {
  "kernelspec": {
   "display_name": "Python 3 (ipykernel)",
   "language": "python",
   "name": "python3"
  },
  "language_info": {
   "codemirror_mode": {
    "name": "ipython",
    "version": 3
   },
   "file_extension": ".py",
   "mimetype": "text/x-python",
   "name": "python",
   "nbconvert_exporter": "python",
   "pygments_lexer": "ipython3",
   "version": "3.11.7"
  }
 },
 "nbformat": 4,
 "nbformat_minor": 5
}
