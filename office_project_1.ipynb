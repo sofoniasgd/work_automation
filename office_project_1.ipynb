{
 "cells": [
  {
   "cell_type": "markdown",
   "id": "c9948188-8157-455f-8891-54406649e264",
   "metadata": {},
   "source": [
    "# Python/Jupyter noptebook pdf merging\n",
    "### I had acces to a couple thousand pdf files in directories that need to be processed,\n",
    "#### here's my implementation"
   ]
  },
  {
   "cell_type": "markdown",
   "id": "21242d6f-5a4c-4e75-a7d2-966b44288afe",
   "metadata": {},
   "source": [
    "import os, check if main directory path exists"
   ]
  },
  {
   "cell_type": "code",
   "execution_count": 1,
   "id": "86394b30-8e2a-4751-b7b3-09d7aa863b4a",
   "metadata": {},
   "outputs": [],
   "source": [
    "import os"
   ]
  },
  {
   "cell_type": "code",
   "execution_count": 2,
   "id": "4fcb5720-828b-4a0b-8530-ffab7ba73504",
   "metadata": {},
   "outputs": [
    {
     "name": "stdout",
     "output_type": "stream",
     "text": [
      "True\n"
     ]
    }
   ],
   "source": [
    "file_root_dir = \"D:/E_filing/oct3_23\"\n",
    "print(os.path.exists(file_root_dir))"
   ]
  },
  {
   "cell_type": "markdown",
   "id": "22e2261c-7d53-423a-8af2-4a9c648b26be",
   "metadata": {},
   "source": [
    "### File structure\n",
    "The main directory contains ~3k sub-dicrectories  \n",
    "these direcories contain scanned .pdf documents(could contain more than one pdf file). the direcory names are unique ten digit numbers identifying customers\n",
    "- 1234567890  \n",
    "         scan.pdf\n",
    "-  1123456789  \n",
    "         scan.pdf\n",
    "-  1223456789  \n",
    "         scan.pdf  \n",
    "   ...  \n",
    "### the problem:\n",
    "during scanning there were a few issues:\n",
    "- scanner couldnt finish scanning whole document\n",
    "- document was too large to scan in one go\n",
    "- power outtages\n",
    "so a lot of directories contained multiple pdfs and some directories contained other directories,  \n",
    "multiple directories contained the same customers documents\n",
    "### To do list  \n",
    "1. fix nested directories\n",
    "2. merge multiple pdfs in each directory\n",
    "3. fix direcory name sizes\n",
    "4. move around files so that each direcory contains all document of a single customer\n",
    "5. finally rename the pdfs with the name of thier root directories(the unique ten digit id)\n",
    "\n",
    "### 1. Used this bit to find nested directories(there were just a bit over a dozen so i fixed them in explorer)  "
   ]
  },
  {
   "cell_type": "code",
   "execution_count": 3,
   "id": "b8ac1ac4-fae8-4328-89f1-34e7c694d9a8",
   "metadata": {},
   "outputs": [
    {
     "name": "stdout",
     "output_type": "stream",
     "text": [
      "[]\n",
      "nested directories = 0\n"
     ]
    }
   ],
   "source": [
    "dircount = 0\n",
    "dir_list = []\n",
    "dir_abnormal = []\n",
    "for root, dirs, files in os.walk(file_root_dir, topdown=True):\n",
    "    # skip root directory\n",
    "    if root == \"D:/E_filing/oct3_23\":\n",
    "        continue\n",
    "    # name will eist if theres a dirs contains sub directories\n",
    "    for name in dirs:\n",
    "        dircount += 1\n",
    "        dir_list.append(name)\n",
    "        dir_abnormal.append(dirs)\n",
    "        print(root)\n",
    "print(dir_abnormal)\n",
    "print(\"nested directories = {}\".format(dircount))\n"
   ]
  },
  {
   "cell_type": "markdown",
   "id": "3a65ebdf-e496-4755-9b61-331f8f991963",
   "metadata": {},
   "source": [
    "### 3. making sure all directories have a ten digit number as names(doesnt include pdfs of a single id in ,multiple directories)  \n",
    "the ids for these directories neede to be checked aginst the pdf content so it's a manual job :|  "
   ]
  },
  {
   "cell_type": "code",
   "execution_count": 5,
   "id": "06843ce1-41c8-4164-b63e-521657e45427",
   "metadata": {
    "scrolled": true
   },
   "outputs": [
    {
     "name": "stdout",
     "output_type": "stream",
     "text": [
      "0\n",
      "[]\n",
      "0\n"
     ]
    }
   ],
   "source": [
    "import re\n",
    "import shutil\n",
    "dirs = []\n",
    "abdir = 0\n",
    "entries = os.scandir(file_root_dir)\n",
    "dest = \"D:/E_filing/ab/\"\n",
    "back_dest = \"D:/E_filing/oct3_23/\"\n",
    "for entry in entries:\n",
    "    name = entry.name\n",
    "    if len(name) != 10 and not re.search(r'.\\(.\\)$', name):\n",
    "        # move files away because editing with file explorer created issues\n",
    "        #if os.path.exists(entry.path):\n",
    "        #    shutil.move(entry.path, dest)\n",
    "        abdir += 1\n",
    "        dirs.append(entry.name)\n",
    "print(abdir)\n",
    "print(dirs)\n",
    "# check again in destination folder\n",
    "entries = os.scandir(dest)\n",
    "abdir = 0\n",
    "dirs_new = []\n",
    "for entry in entries:\n",
    "    name = entry.name\n",
    "    if len(name) != 10 and not re.search(r'.\\(.\\)$', name):\n",
    "        abdir += 1\n",
    "    else:\n",
    "        shutil.move(entry.path, back_dest + \"/\" + entry.name)\n",
    "        dirs_new.append(entry.path)\n",
    "print(abdir)\n",
    "for item in dirs_new:\n",
    "    print(item)\n",
    "\n"
   ]
  },
  {
   "cell_type": "markdown",
   "id": "fb1267c8-50e1-42f8-a15f-ee3d4e881c1b",
   "metadata": {},
   "source": [
    "4. move around files so that each direcory contains all documents of a single customer"
   ]
  },
  {
   "cell_type": "code",
   "execution_count": 6,
   "id": "c4fc7d2f-cba9-4b4d-8a55-72317d5947a1",
   "metadata": {},
   "outputs": [
    {
     "name": "stdout",
     "output_type": "stream",
     "text": [
      "number of multiple directories= 104\n",
      "number of unique id's= 54\n",
      "['0000546960', '0001127134', '0002208885', '0002797415', '0003883372', '0006573774', '0007682928', '0013221392', '0028087451', '0030260750', '0036802307', '0037830376', '0043763841', '0046198146', '0047276300', '0048137582', '0050464470', '0052177400', '0053195797', '0054171726', '0054639186', '0054721163', '0054995808', '0055082157', '0055086548', '0055132232', '0055441170', '0055602183', '0055607011', '0055664797', '0055671667', '0055899198', '0056004351', '0056722600', '0057006775', '0057096769', '0057624952', '0057709068', '0057723382', '0057723711', '0057982929', '0058094975', '0058276245', '0058277731', '0059234640', '0059756473', '0062310065', '0064932957', '0066336398', '0066488313', '0067817420', '0068508574', '0068777768', '0069177841']\n",
      "119\n",
      "['0000546960', '0000546960', '0000546960', '0001127134', '0001127134', '0001127134', '0002208885', '0002208885', '0002208885', '0002208885', '0002208885', '0002797415', '0002797415', '0003883372', '0003883372', '0003883372', '0003883372', '0006573774', '0006573774', '0007682928', '0007682928', '0013221392', '0013221392', '0028087451', '0028087451', '0030260750', '0030260750', '0036802307', '0036802307', '0037830376', '0037830376', '0043763841', '0043763841', '0043763841', '0046198146', '0046198146', '0046198146', '0047276300', '0047276300', '0047276300', '0048137582', '0048137582', '0050464470', '0050464470', '0052177400', '0053195797', '0053195797', '0054171726', '0054171726', '0054171726', '0054639186', '0054639186', '0054721163', '0054721163', '0054995808', '0054995808', '0055082157', '0055086548', '0055086548', '0055132232', '0055441170', '0055441170', '0055602183', '0055602183', '0055602183', '0055602183', '0055607011', '0055664797', '0055664797', '0055671667', '0055671667', '0055899198', '0055899198', '0056004351', '0056004351', '0056722600', '0056722600', '0057006775', '0057006775', '0057006775', '0057096769', '0057096769', '0057624952', '0057624952', '0057709068', '0057709068', '0057723382', '0057723382', '0057723711', '0057723711', '0057982929', '0057982929', '0057982929', '0058094975', '0058094975', '0058276245', '0058276245', '0058277731', '0058277731', '0059234640', '0059234640', '0059756473', '0059756473', '0062310065', '0062310065', '0064932957', '0064932957', '0066336398', '0066336398', '0066488313', '0066488313', '0067817420', '0067817420', '0068508574', '0068508574', '0068777768', '0068777768', '0068777768', '0069177841']\n"
     ]
    }
   ],
   "source": [
    "import re\n",
    "import shutil\n",
    "dirs = []\n",
    "abdir = 0\n",
    "dd = 0\n",
    "moved = []\n",
    "entries = os.scandir(file_root_dir)\n",
    "dest = \"D:/E_filing/ab/\"\n",
    "back_dest = \"D:/E_filing/oct3_23/\"\n",
    "for entry in entries:\n",
    "    name = entry.name\n",
    "    if len(name) != 10 and re.search(r'\\(.\\)$', name):\n",
    "        abdir += 1\n",
    "        if name[:10] not in dirs:\n",
    "            dirs.append(name[:10])\n",
    "print(\"number of multiple directories=\", abdir)\n",
    "print(\"number of unique id's=\", len(dirs))\n",
    "print(dirs)\n",
    "entriess = os.scandir(file_root_dir)\n",
    "for entry in entriess:\n",
    "    names = entry.name\n",
    "    if names[:10] in dirs:\n",
    "        dd += 1\n",
    "        moved.append(names[:10])\n",
    "        shutil.move(entry.path, dest + \"/\" + names)\n",
    "print(dd)\n",
    "print(moved)"
   ]
  },
  {
   "cell_type": "code",
   "execution_count": 7,
   "id": "94a3c82f-33a4-468d-87c6-d9f389df9829",
   "metadata": {},
   "outputs": [
    {
     "name": "stdout",
     "output_type": "stream",
     "text": [
      "number of residual directories= 0\n",
      "[]\n"
     ]
    }
   ],
   "source": [
    "# checking if there are any files left of the previous operation\n",
    "import re\n",
    "import shutil\n",
    "id_list = []\n",
    "abdir = 0\n",
    "dd = 0\n",
    "moved = []\n",
    "\n",
    "dest = \"D:/E_filing/ab/\"\n",
    "back_dest = \"D:/E_filing/oct3_23/\"\n",
    "\n",
    "entries_root = os.scandir(file_root_dir)\n",
    "# check if there are any residual files in root directory that have not been moved\n",
    "entries_ab = os.scandir(dest)\n",
    "for id in entries_ab:\n",
    "    if id.name not in id_list:\n",
    "        id_list.append(id.name)\n",
    "dirs = []\n",
    "for entry in entries_root:\n",
    "    name = entry.name\n",
    "    if name[:10] in id_list:\n",
    "        abdir += 1\n",
    "        dirs.append(name[:10])\n",
    "print(\"number of residual directories=\", abdir)\n",
    "print(dirs)"
   ]
  },
  {
   "cell_type": "markdown",
   "id": "66562699-099c-44ef-ae11-4060adbd7bac",
   "metadata": {},
   "source": [
    "### ^success!!  \n",
    "now move all documents belonging to a single user id to one directory"
   ]
  },
  {
   "cell_type": "code",
   "execution_count": 14,
   "id": "e647bdaf-b70d-4c1f-b3fb-752605f2bac2",
   "metadata": {},
   "outputs": [],
   "source": [
    "# dest = \"D:/E_filing/ab/\"\n",
    "# id_list contains all directories to be fixed\n",
    "\n",
    "fixed_list = []\n",
    "for id in id_list:\n",
    "    if len(id) == 10:\n",
    "        fixed_list.append(id)\n",
    "\n",
    "    "
   ]
  },
  {
   "cell_type": "code",
   "execution_count": 18,
   "id": "f54d9504-823e-4281-9187-9c01175d414e",
   "metadata": {},
   "outputs": [
    {
     "name": "stdout",
     "output_type": "stream",
     "text": [
      "0030260750\n",
      "0055441170\n",
      "0055671667\n",
      "0056722600\n",
      "0057006775\n",
      "0057096769\n",
      "0057709068\n",
      "0057723382\n",
      "0058276245\n",
      "0058277731\n",
      "0062310065\n",
      "0066336398\n",
      "0066488313\n",
      "0067817420\n",
      "0068508574\n",
      "fixed list 15\n",
      "id_list 119\n"
     ]
    }
   ],
   "source": [
    "for i in fixed_list:\n",
    "    print(i)\n",
    "print(\"fixed list\", len(fixed_list))\n",
    "print(\"id_list\", len(id_list))"
   ]
  },
  {
   "cell_type": "markdown",
   "id": "f4c10dac-3c23-46dd-866e-0e68dbb812bf",
   "metadata": {},
   "source": [
    "#### im going to move all other pdfs in the directories that dont have numbers\n",
    "#### EX move pdfs from '123 (1)' dir to '123' dir\n",
    "#### the directories without names are in \"fixed_list\""
   ]
  },
  {
   "cell_type": "code",
   "execution_count": 55,
   "id": "55f74493-db68-429e-950d-e3e17793314c",
   "metadata": {},
   "outputs": [
    {
     "name": "stdout",
     "output_type": "stream",
     "text": [
      "in directory  D:/E_filing/ab/0030260750(2)\n",
      "in directory  D:/E_filing/ab/0055441170 (2)\n",
      "in directory  D:/E_filing/ab/0055671667 (1)\n",
      "in directory  D:/E_filing/ab/0056722600 (1)\n",
      "in directory  D:/E_filing/ab/0057006775(1)\n",
      "in directory  D:/E_filing/ab/0057006775(2)\n",
      "in directory  D:/E_filing/ab/0057096769 (1)\n",
      "in directory  D:/E_filing/ab/0057709068(1)\n",
      "in directory  D:/E_filing/ab/0057723382 (1)\n",
      "in directory  D:/E_filing/ab/0058276245(1)\n",
      "in directory  D:/E_filing/ab/0058277731(1)\n",
      "in directory  D:/E_filing/ab/0062310065(1)\n",
      "in directory  D:/E_filing/ab/0066336398(1)\n",
      "in directory  D:/E_filing/ab/0066488313(2)\n",
      "in directory  D:/E_filing/ab/0067817420 (2)\n",
      "in directory  D:/E_filing/ab/0068508574 (1)\n"
     ]
    }
   ],
   "source": [
    "entries_ab = os.scandir(dest)\n",
    "for entry in entries_ab:\n",
    "    tin = entry.name\n",
    "    # check if tin has unique relative(dir without \"(x) suffix\") and iself contains \"(x)\"\n",
    "    if tin[:10] in fixed_list and re.search(r'\\(.\\)$', tin):\n",
    "        # now scan the dir\n",
    "        print(\"in directory \", entry.path)\n",
    "        files = os.scandir(entry.path)\n",
    "        # for every pdf in entry\n",
    "        for file in files:\n",
    "            if file.is_file():\n",
    "                # rename file so that moving will not have collisions\n",
    "                #new_file_name = file.path[:-4] + tin[-2:-1] + file.name[-4:]\n",
    "                #print(\"old file name |{}| new file name|{}|\".format(file.path, new_file_name))\n",
    "                #os.rename(file.path, new_file_name)\n",
    "                print(\"file name |{}|\".format(file.path))\n",
    "                # get destination\n",
    "                destination = entry.path[:25] + '/'\n",
    "                print(\"moving file |{}| to destination |{}|\".format(file.path, destination))\n",
    "                # !!! move file !!!\n",
    "                shutil.move(file.path, destination)\n",
    "                # move to unique relative directory and remane it so it wont have conflicting name\n",
    "        \n",
    "    # cleanup, no that the directory is empty remove it\n",
    "    #os.rmdir(entry.path)"
   ]
  },
  {
   "cell_type": "code",
   "execution_count": 59,
   "id": "8474b4cb-b54c-4010-ab0c-8d0ca1573bb0",
   "metadata": {},
   "outputs": [
    {
     "name": "stdout",
     "output_type": "stream",
     "text": [
      "deleted dir D:/E_filing/ab/0055082157(1)\n",
      "deleted dir D:/E_filing/ab/0055441170 (2)\n",
      "deleted dir D:/E_filing/ab/0055671667 (1)\n",
      "deleted dir D:/E_filing/ab/0056722600 (1)\n",
      "deleted dir D:/E_filing/ab/0057006775(1)\n",
      "deleted dir D:/E_filing/ab/0057006775(2)\n",
      "deleted dir D:/E_filing/ab/0057096769 (1)\n",
      "deleted dir D:/E_filing/ab/0057709068(1)\n",
      "deleted dir D:/E_filing/ab/0057723382 (1)\n",
      "deleted dir D:/E_filing/ab/0058276245(1)\n",
      "deleted dir D:/E_filing/ab/0058277731(1)\n",
      "deleted dir D:/E_filing/ab/0062310065(1)\n",
      "deleted dir D:/E_filing/ab/0066336398(1)\n",
      "deleted dir D:/E_filing/ab/0066488313(2)\n",
      "deleted dir D:/E_filing/ab/0067817420 (2)\n",
      "deleted dir D:/E_filing/ab/0068508574 (1)\n"
     ]
    }
   ],
   "source": [
    "# remove empty directories\n",
    "entries_ab = os.scandir(dest)\n",
    "\n",
    "for entry in entries_ab:\n",
    "    # delete directory\n",
    "    try:\n",
    "        os.rmdir(entry.path)\n",
    "        print(\"deleted dir {}\".format(entry.path))\n",
    "    except OSError as e:\n",
    "        pass"
   ]
  },
  {
   "cell_type": "code",
   "execution_count": 63,
   "id": "c58aa810-9849-4dda-b9a5-51352e837cbd",
   "metadata": {},
   "outputs": [],
   "source": [
    "# rename 123(1) dirs to just 123 to make them a unique directory\n",
    "entries_ab = os.scandir(dest)\n",
    "id_list = []\n",
    "for entry in entries_ab:\n",
    "    tin = entry.name\n",
    "    id_list.append(entry.name)\n",
    "    if re.search(r'\\(1\\)$', tin):\n",
    "        print(\"to rename \", entry.path)\n",
    "        os.rename(entry.path, entry.path[:25])\n",
    "        print(\"renamed to \", entry.path[:25])"
   ]
  },
  {
   "cell_type": "code",
   "execution_count": 72,
   "id": "ac65e23d-ea7a-4e5c-aff1-31d1d5273cd7",
   "metadata": {},
   "outputs": [
    {
     "name": "stdout",
     "output_type": "stream",
     "text": [
      "total directories 102\n",
      "unique list  52\n"
     ]
    }
   ],
   "source": [
    "# update id list and fixed_list\n",
    "print(\"total directories\", len(id_list))\n",
    "fixed_list = []\n",
    "for i in id_list:\n",
    "    if len(i) == 10:\n",
    "        fixed_list.append(i)\n",
    "print(\"unique list \", len(fixed_list))"
   ]
  },
  {
   "cell_type": "markdown",
   "id": "843b0073-7bf2-4587-98b0-00ced04d9b8b",
   "metadata": {},
   "source": [
    "#### second pass"
   ]
  },
  {
   "cell_type": "code",
   "execution_count": 76,
   "id": "fc144358-f44a-4b84-83c7-56ab19b48734",
   "metadata": {},
   "outputs": [
    {
     "name": "stdout",
     "output_type": "stream",
     "text": [
      "in directory  D:/E_filing/ab/0000546960 (2)\n",
      "moving file |D:/E_filing/ab/0000546960 (2)\\Scan2.pdf| to destination |D:/E_filing/ab/0000546960/|\n",
      "in directory  D:/E_filing/ab/0000546960 (3)\n",
      "moving file |D:/E_filing/ab/0000546960 (3)\\Scan3.pdf| to destination |D:/E_filing/ab/0000546960/|\n",
      "in directory  D:/E_filing/ab/0001127134 (2)\n",
      "moving file |D:/E_filing/ab/0001127134 (2)\\Scan2.pdf| to destination |D:/E_filing/ab/0001127134/|\n",
      "in directory  D:/E_filing/ab/0001127134 (3)\n",
      "moving file |D:/E_filing/ab/0001127134 (3)\\Scan3.pdf| to destination |D:/E_filing/ab/0001127134/|\n",
      "in directory  D:/E_filing/ab/0002208885 (2)\n",
      "moving file |D:/E_filing/ab/0002208885 (2)\\Scan2.pdf| to destination |D:/E_filing/ab/0002208885/|\n",
      "in directory  D:/E_filing/ab/0002208885 (3)\n",
      "moving file |D:/E_filing/ab/0002208885 (3)\\Scan3.pdf| to destination |D:/E_filing/ab/0002208885/|\n",
      "in directory  D:/E_filing/ab/0002208885 (4)\n",
      "moving file |D:/E_filing/ab/0002208885 (4)\\Scan4.pdf| to destination |D:/E_filing/ab/0002208885/|\n",
      "in directory  D:/E_filing/ab/0002208885 (5)\n",
      "moving file |D:/E_filing/ab/0002208885 (5)\\Scan5.pdf| to destination |D:/E_filing/ab/0002208885/|\n",
      "in directory  D:/E_filing/ab/0002797415 (2)\n",
      "moving file |D:/E_filing/ab/0002797415 (2)\\Scan2.pdf| to destination |D:/E_filing/ab/0002797415/|\n",
      "in directory  D:/E_filing/ab/0003883372 (2)\n",
      "moving file |D:/E_filing/ab/0003883372 (2)\\Scan2.pdf| to destination |D:/E_filing/ab/0003883372/|\n",
      "in directory  D:/E_filing/ab/0003883372 (3)\n",
      "moving file |D:/E_filing/ab/0003883372 (3)\\Scan3.pdf| to destination |D:/E_filing/ab/0003883372/|\n",
      "in directory  D:/E_filing/ab/0003883372(4)\n",
      "moving file |D:/E_filing/ab/0003883372(4)\\Scan4.pdf| to destination |D:/E_filing/ab/0003883372/|\n",
      "in directory  D:/E_filing/ab/0006573774(2)\n",
      "moving file |D:/E_filing/ab/0006573774(2)\\Scan2.pdf| to destination |D:/E_filing/ab/0006573774/|\n",
      "in directory  D:/E_filing/ab/0007682928 (2)\n",
      "moving file |D:/E_filing/ab/0007682928 (2)\\Scan2.pdf| to destination |D:/E_filing/ab/0007682928/|\n",
      "in directory  D:/E_filing/ab/0013221392(2)\n",
      "moving file |D:/E_filing/ab/0013221392(2)\\Scan2.pdf| to destination |D:/E_filing/ab/0013221392/|\n",
      "in directory  D:/E_filing/ab/0028087451 (2)\n",
      "moving file |D:/E_filing/ab/0028087451 (2)\\Scan2.pdf| to destination |D:/E_filing/ab/0028087451/|\n",
      "in directory  D:/E_filing/ab/0036802307(2)\n",
      "moving file |D:/E_filing/ab/0036802307(2)\\Scan2.pdf| to destination |D:/E_filing/ab/0036802307/|\n",
      "in directory  D:/E_filing/ab/0037830376 (2)\n",
      "moving file |D:/E_filing/ab/0037830376 (2)\\Scan2.pdf| to destination |D:/E_filing/ab/0037830376/|\n",
      "in directory  D:/E_filing/ab/0043763841 (2)\n",
      "moving file |D:/E_filing/ab/0043763841 (2)\\Scan2.pdf| to destination |D:/E_filing/ab/0043763841/|\n",
      "in directory  D:/E_filing/ab/0043763841 (3)\n",
      "moving file |D:/E_filing/ab/0043763841 (3)\\Scan3.pdf| to destination |D:/E_filing/ab/0043763841/|\n",
      "in directory  D:/E_filing/ab/0046198146 (2)\n",
      "moving file |D:/E_filing/ab/0046198146 (2)\\Scan2.pdf| to destination |D:/E_filing/ab/0046198146/|\n",
      "in directory  D:/E_filing/ab/0046198146 (3)\n",
      "moving file |D:/E_filing/ab/0046198146 (3)\\Scan3.pdf| to destination |D:/E_filing/ab/0046198146/|\n",
      "in directory  D:/E_filing/ab/0047276300(2)\n",
      "moving file |D:/E_filing/ab/0047276300(2)\\Scan2.pdf| to destination |D:/E_filing/ab/0047276300/|\n",
      "in directory  D:/E_filing/ab/0047276300(3)\n",
      "moving file |D:/E_filing/ab/0047276300(3)\\Scan3.pdf| to destination |D:/E_filing/ab/0047276300/|\n",
      "in directory  D:/E_filing/ab/0048137582(2)\n",
      "moving file |D:/E_filing/ab/0048137582(2)\\Scan2.pdf| to destination |D:/E_filing/ab/0048137582/|\n",
      "in directory  D:/E_filing/ab/0050464470(2)\n",
      "moving file |D:/E_filing/ab/0050464470(2)\\Scan2.pdf| to destination |D:/E_filing/ab/0050464470/|\n",
      "in directory  D:/E_filing/ab/0053195797 (2)\n",
      "moving file |D:/E_filing/ab/0053195797 (2)\\Scan2.pdf| to destination |D:/E_filing/ab/0053195797/|\n",
      "in directory  D:/E_filing/ab/0054171726 (2)\n",
      "moving file |D:/E_filing/ab/0054171726 (2)\\Scan2.pdf| to destination |D:/E_filing/ab/0054171726/|\n",
      "in directory  D:/E_filing/ab/0054171726 (3)\n",
      "moving file |D:/E_filing/ab/0054171726 (3)\\Scan3.pdf| to destination |D:/E_filing/ab/0054171726/|\n",
      "in directory  D:/E_filing/ab/0054639186(2)\n",
      "moving file |D:/E_filing/ab/0054639186(2)\\Scan2.pdf| to destination |D:/E_filing/ab/0054639186/|\n",
      "in directory  D:/E_filing/ab/0054721163 (2)\n",
      "moving file |D:/E_filing/ab/0054721163 (2)\\Scan2.pdf| to destination |D:/E_filing/ab/0054721163/|\n",
      "in directory  D:/E_filing/ab/0054995808 (2)\n",
      "moving file |D:/E_filing/ab/0054995808 (2)\\Scan2.pdf| to destination |D:/E_filing/ab/0054995808/|\n",
      "in directory  D:/E_filing/ab/0055086548 (2)\n",
      "moving file |D:/E_filing/ab/0055086548 (2)\\Scan2.pdf| to destination |D:/E_filing/ab/0055086548/|\n",
      "in directory  D:/E_filing/ab/0055602183 (2)\n",
      "moving file |D:/E_filing/ab/0055602183 (2)\\Scan2.pdf| to destination |D:/E_filing/ab/0055602183/|\n",
      "in directory  D:/E_filing/ab/0055602183 (4)\n",
      "moving file |D:/E_filing/ab/0055602183 (4)\\Scan4.pdf| to destination |D:/E_filing/ab/0055602183/|\n",
      "in directory  D:/E_filing/ab/0055602183(3)\n",
      "moving file |D:/E_filing/ab/0055602183(3)\\Scan3.pdf| to destination |D:/E_filing/ab/0055602183/|\n",
      "in directory  D:/E_filing/ab/0055664797(2)\n",
      "moving file |D:/E_filing/ab/0055664797(2)\\Scan2.pdf| to destination |D:/E_filing/ab/0055664797/|\n",
      "in directory  D:/E_filing/ab/0055899198 (2)\n",
      "moving file |D:/E_filing/ab/0055899198 (2)\\Scan2.pdf| to destination |D:/E_filing/ab/0055899198/|\n",
      "in directory  D:/E_filing/ab/0056004351 (2)\n",
      "moving file |D:/E_filing/ab/0056004351 (2)\\Scan2.pdf| to destination |D:/E_filing/ab/0056004351/|\n",
      "in directory  D:/E_filing/ab/0057624952 (2)\n",
      "moving file |D:/E_filing/ab/0057624952 (2)\\Scan2.pdf| to destination |D:/E_filing/ab/0057624952/|\n",
      "in directory  D:/E_filing/ab/0057723711 (2)\n",
      "moving file |D:/E_filing/ab/0057723711 (2)\\Scan2.pdf| to destination |D:/E_filing/ab/0057723711/|\n",
      "in directory  D:/E_filing/ab/0057982929(2)\n",
      "moving file |D:/E_filing/ab/0057982929(2)\\Scan2.pdf| to destination |D:/E_filing/ab/0057982929/|\n",
      "in directory  D:/E_filing/ab/0057982929(3)\n",
      "moving file |D:/E_filing/ab/0057982929(3)\\Scan3.pdf| to destination |D:/E_filing/ab/0057982929/|\n",
      "in directory  D:/E_filing/ab/0058094975(2)\n",
      "moving file |D:/E_filing/ab/0058094975(2)\\Scan2.pdf| to destination |D:/E_filing/ab/0058094975/|\n",
      "in directory  D:/E_filing/ab/0059234640 (2)\n",
      "moving file |D:/E_filing/ab/0059234640 (2)\\Scan2.pdf| to destination |D:/E_filing/ab/0059234640/|\n",
      "in directory  D:/E_filing/ab/0064932957 (2)\n",
      "moving file |D:/E_filing/ab/0064932957 (2)\\Scan2.pdf| to destination |D:/E_filing/ab/0064932957/|\n",
      "in directory  D:/E_filing/ab/0068777768 (2)\n",
      "moving file |D:/E_filing/ab/0068777768 (2)\\Scan2.pdf| to destination |D:/E_filing/ab/0068777768/|\n",
      "in directory  D:/E_filing/ab/0068777768 (3)\n",
      "moving file |D:/E_filing/ab/0068777768 (3)\\Scan3.pdf| to destination |D:/E_filing/ab/0068777768/|\n"
     ]
    }
   ],
   "source": [
    "entries_ab = os.scandir(dest)\n",
    "for entry in entries_ab:\n",
    "    tin = entry.name\n",
    "    # check if tin has unique relative(dir without \"(x) suffix\") and iself contains \"(x)\"\n",
    "    if tin[:10] in fixed_list and re.search(r'\\(.\\)$', tin):\n",
    "        # now scan the dir\n",
    "        print(\"in directory \", entry.path)\n",
    "        files = os.scandir(entry.path)\n",
    "        # for every pdf in entry\n",
    "        for file in files:\n",
    "            if file.is_file():\n",
    "                # rename file so that moving will not have collisions\n",
    "                #new_file_name = file.path[:-4] + tin[-2:-1] + file.name[-4:]\n",
    "                #print(\"old file name |{}| new file name|{}|\".format(file.path, new_file_name))\n",
    "                #os.rename(file.path, new_file_name)\n",
    "                #print(\"file name |{}|\".format(file.path))\n",
    "                # get destination\n",
    "                destination = entry.path[:25] + '/'\n",
    "                print(\"moving file |{}| to destination |{}|\".format(file.path, destination))\n",
    "                # !!! move file !!!\n",
    "                shutil.move(file.path, destination)"
   ]
  },
  {
   "cell_type": "code",
   "execution_count": 77,
   "id": "94a6115d-a67b-4abd-9c95-1b94dae2f0f9",
   "metadata": {},
   "outputs": [
    {
     "name": "stdout",
     "output_type": "stream",
     "text": [
      "deleted dir D:/E_filing/ab/0000546960 (2)\n",
      "deleted dir D:/E_filing/ab/0000546960 (3)\n",
      "deleted dir D:/E_filing/ab/0001127134 (2)\n",
      "deleted dir D:/E_filing/ab/0001127134 (3)\n",
      "deleted dir D:/E_filing/ab/0002208885 (2)\n",
      "deleted dir D:/E_filing/ab/0002208885 (3)\n",
      "deleted dir D:/E_filing/ab/0002208885 (4)\n",
      "deleted dir D:/E_filing/ab/0002208885 (5)\n",
      "deleted dir D:/E_filing/ab/0002797415 (2)\n",
      "deleted dir D:/E_filing/ab/0003883372 (2)\n",
      "deleted dir D:/E_filing/ab/0003883372 (3)\n",
      "deleted dir D:/E_filing/ab/0003883372(4)\n",
      "deleted dir D:/E_filing/ab/0006573774(2)\n",
      "deleted dir D:/E_filing/ab/0007682928 (2)\n",
      "deleted dir D:/E_filing/ab/0013221392(2)\n",
      "deleted dir D:/E_filing/ab/0028087451 (2)\n",
      "deleted dir D:/E_filing/ab/0036802307(2)\n",
      "deleted dir D:/E_filing/ab/0037830376 (2)\n",
      "deleted dir D:/E_filing/ab/0043763841 (2)\n",
      "deleted dir D:/E_filing/ab/0043763841 (3)\n",
      "deleted dir D:/E_filing/ab/0046198146 (2)\n",
      "deleted dir D:/E_filing/ab/0046198146 (3)\n",
      "deleted dir D:/E_filing/ab/0047276300(2)\n",
      "deleted dir D:/E_filing/ab/0047276300(3)\n",
      "deleted dir D:/E_filing/ab/0048137582(2)\n",
      "deleted dir D:/E_filing/ab/0050464470(2)\n",
      "deleted dir D:/E_filing/ab/0053195797 (2)\n",
      "deleted dir D:/E_filing/ab/0054171726 (2)\n",
      "deleted dir D:/E_filing/ab/0054171726 (3)\n",
      "deleted dir D:/E_filing/ab/0054639186(2)\n",
      "deleted dir D:/E_filing/ab/0054721163 (2)\n",
      "deleted dir D:/E_filing/ab/0054995808 (2)\n",
      "deleted dir D:/E_filing/ab/0055086548 (2)\n",
      "deleted dir D:/E_filing/ab/0055602183 (2)\n",
      "deleted dir D:/E_filing/ab/0055602183 (4)\n",
      "deleted dir D:/E_filing/ab/0055602183(3)\n",
      "deleted dir D:/E_filing/ab/0055664797(2)\n",
      "deleted dir D:/E_filing/ab/0055899198 (2)\n",
      "deleted dir D:/E_filing/ab/0056004351 (2)\n",
      "deleted dir D:/E_filing/ab/0057624952 (2)\n",
      "deleted dir D:/E_filing/ab/0057723711 (2)\n",
      "deleted dir D:/E_filing/ab/0057982929(2)\n",
      "deleted dir D:/E_filing/ab/0057982929(3)\n",
      "deleted dir D:/E_filing/ab/0058094975(2)\n",
      "deleted dir D:/E_filing/ab/0059234640 (2)\n",
      "deleted dir D:/E_filing/ab/0064932957 (2)\n",
      "deleted dir D:/E_filing/ab/0068777768 (2)\n",
      "deleted dir D:/E_filing/ab/0068777768 (3)\n"
     ]
    }
   ],
   "source": [
    "# remove empty directories\n",
    "entries_ab = os.scandir(dest)\n",
    "\n",
    "for entry in entries_ab:\n",
    "    # delete directory\n",
    "    try:\n",
    "        os.rmdir(entry.path)\n",
    "        print(\"deleted dir {}\".format(entry.path))\n",
    "    except OSError as e:\n",
    "        pass"
   ]
  },
  {
   "cell_type": "markdown",
   "id": "3a94fbfb-f56e-4a54-b78c-14f76ff3691e",
   "metadata": {},
   "source": [
    "# DONE !!!!\n",
    "### now move all directories back to their original directory so that merging begins"
   ]
  },
  {
   "cell_type": "code",
   "execution_count": 80,
   "id": "7fbed65e-b30f-4c30-b02a-c4b03bdedb83",
   "metadata": {},
   "outputs": [
    {
     "name": "stdout",
     "output_type": "stream",
     "text": [
      "move from D:/E_filing/ab/0000546960 to D:/E_filing/oct3_23/0000546960\n",
      "move from D:/E_filing/ab/0001127134 to D:/E_filing/oct3_23/0001127134\n",
      "move from D:/E_filing/ab/0002208885 to D:/E_filing/oct3_23/0002208885\n",
      "move from D:/E_filing/ab/0002797415 to D:/E_filing/oct3_23/0002797415\n",
      "move from D:/E_filing/ab/0003883372 to D:/E_filing/oct3_23/0003883372\n",
      "move from D:/E_filing/ab/0006573774 to D:/E_filing/oct3_23/0006573774\n",
      "move from D:/E_filing/ab/0007682928 to D:/E_filing/oct3_23/0007682928\n",
      "move from D:/E_filing/ab/0013221392 to D:/E_filing/oct3_23/0013221392\n",
      "move from D:/E_filing/ab/0028087451 to D:/E_filing/oct3_23/0028087451\n",
      "move from D:/E_filing/ab/0030260750 to D:/E_filing/oct3_23/0030260750\n",
      "move from D:/E_filing/ab/0036802307 to D:/E_filing/oct3_23/0036802307\n",
      "move from D:/E_filing/ab/0037830376 to D:/E_filing/oct3_23/0037830376\n",
      "move from D:/E_filing/ab/0043763841 to D:/E_filing/oct3_23/0043763841\n",
      "move from D:/E_filing/ab/0046198146 to D:/E_filing/oct3_23/0046198146\n",
      "move from D:/E_filing/ab/0047276300 to D:/E_filing/oct3_23/0047276300\n",
      "move from D:/E_filing/ab/0048137582 to D:/E_filing/oct3_23/0048137582\n",
      "move from D:/E_filing/ab/0050464470 to D:/E_filing/oct3_23/0050464470\n",
      "move from D:/E_filing/ab/0052177400 to D:/E_filing/oct3_23/0052177400\n",
      "move from D:/E_filing/ab/0053195797 to D:/E_filing/oct3_23/0053195797\n",
      "move from D:/E_filing/ab/0054171726 to D:/E_filing/oct3_23/0054171726\n",
      "move from D:/E_filing/ab/0054639186 to D:/E_filing/oct3_23/0054639186\n",
      "move from D:/E_filing/ab/0054721163 to D:/E_filing/oct3_23/0054721163\n",
      "move from D:/E_filing/ab/0054995808 to D:/E_filing/oct3_23/0054995808\n",
      "move from D:/E_filing/ab/0055086548 to D:/E_filing/oct3_23/0055086548\n",
      "move from D:/E_filing/ab/0055132232 to D:/E_filing/oct3_23/0055132232\n",
      "move from D:/E_filing/ab/0055441170 to D:/E_filing/oct3_23/0055441170\n",
      "move from D:/E_filing/ab/0055602183 to D:/E_filing/oct3_23/0055602183\n",
      "move from D:/E_filing/ab/0055607011 to D:/E_filing/oct3_23/0055607011\n",
      "move from D:/E_filing/ab/0055664797 to D:/E_filing/oct3_23/0055664797\n",
      "move from D:/E_filing/ab/0055671667 to D:/E_filing/oct3_23/0055671667\n",
      "move from D:/E_filing/ab/0055899198 to D:/E_filing/oct3_23/0055899198\n",
      "move from D:/E_filing/ab/0056004351 to D:/E_filing/oct3_23/0056004351\n",
      "move from D:/E_filing/ab/0056722600 to D:/E_filing/oct3_23/0056722600\n",
      "move from D:/E_filing/ab/0057006775 to D:/E_filing/oct3_23/0057006775\n",
      "move from D:/E_filing/ab/0057096769 to D:/E_filing/oct3_23/0057096769\n",
      "move from D:/E_filing/ab/0057624952 to D:/E_filing/oct3_23/0057624952\n",
      "move from D:/E_filing/ab/0057709068 to D:/E_filing/oct3_23/0057709068\n",
      "move from D:/E_filing/ab/0057723382 to D:/E_filing/oct3_23/0057723382\n",
      "move from D:/E_filing/ab/0057723711 to D:/E_filing/oct3_23/0057723711\n",
      "move from D:/E_filing/ab/0057982929 to D:/E_filing/oct3_23/0057982929\n",
      "move from D:/E_filing/ab/0058094975 to D:/E_filing/oct3_23/0058094975\n",
      "move from D:/E_filing/ab/0058276245 to D:/E_filing/oct3_23/0058276245\n",
      "move from D:/E_filing/ab/0058277731 to D:/E_filing/oct3_23/0058277731\n",
      "move from D:/E_filing/ab/0059234640 to D:/E_filing/oct3_23/0059234640\n",
      "move from D:/E_filing/ab/0059756473 to D:/E_filing/oct3_23/0059756473\n",
      "move from D:/E_filing/ab/0062310065 to D:/E_filing/oct3_23/0062310065\n",
      "move from D:/E_filing/ab/0064932957 to D:/E_filing/oct3_23/0064932957\n",
      "move from D:/E_filing/ab/0066336398 to D:/E_filing/oct3_23/0066336398\n",
      "move from D:/E_filing/ab/0066488313 to D:/E_filing/oct3_23/0066488313\n",
      "move from D:/E_filing/ab/0067817420 to D:/E_filing/oct3_23/0067817420\n",
      "move from D:/E_filing/ab/0068508574 to D:/E_filing/oct3_23/0068508574\n",
      "move from D:/E_filing/ab/0068777768 to D:/E_filing/oct3_23/0068777768\n",
      "move from D:/E_filing/ab/0069177841 to D:/E_filing/oct3_23/0069177841\n"
     ]
    }
   ],
   "source": [
    "dest = \"D:/E_filing/ab/\"\n",
    "dest_old = \"D:/E_filing/oct3_23/\"\n",
    "# scan dir for updated directory list\n",
    "entries_ab = os.scandir(dest)\n",
    "for entry in entries_ab:\n",
    "    # start moving directories to original location\n",
    "    old_destination = dest_old + entry.name\n",
    "    shutil.move(entry.path, old_destination)\n",
    "    print(\"move from {} to {}\".format(entry.path, old_destination))"
   ]
  },
  {
   "cell_type": "markdown",
   "id": "4441d24d-6f40-4260-8675-445acb5ffb8e",
   "metadata": {},
   "source": [
    "# now the fun part begins!!"
   ]
  },
  {
   "cell_type": "code",
   "execution_count": null,
   "id": "0b1901bf-d40e-4cba-ae5e-4abd0ae312de",
   "metadata": {},
   "outputs": [],
   "source": []
  }
 ],
 "metadata": {
  "kernelspec": {
   "display_name": "Python 3 (ipykernel)",
   "language": "python",
   "name": "python3"
  },
  "language_info": {
   "codemirror_mode": {
    "name": "ipython",
    "version": 3
   },
   "file_extension": ".py",
   "mimetype": "text/x-python",
   "name": "python",
   "nbconvert_exporter": "python",
   "pygments_lexer": "ipython3",
   "version": "3.11.7"
  }
 },
 "nbformat": 4,
 "nbformat_minor": 5
}
